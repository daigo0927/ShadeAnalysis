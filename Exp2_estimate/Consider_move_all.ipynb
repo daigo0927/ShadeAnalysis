{
 "cells": [
  {
   "cell_type": "code",
   "execution_count": 10,
   "metadata": {
    "collapsed": false
   },
   "outputs": [
    {
     "name": "stdout",
     "output_type": "stream",
     "text": [
      "The autoreload extension is already loaded. To reload it, use:\n",
      "  %reload_ext autoreload\n"
     ]
    }
   ],
   "source": [
    "%load_ext autoreload\n",
    "%autoreload 2\n",
    "%matplotlib inline\n",
    "\n",
    "import sys, os\n",
    "sys.path.append(os.pardir)\n",
    "\n",
    "import numpy as np\n",
    "import matplotlib.pyplot as plt\n",
    "import seaborn as sns\n",
    "import pickle\n",
    "import glob\n",
    "import pandas as pd\n"
   ]
  },
  {
   "cell_type": "code",
   "execution_count": 20,
   "metadata": {
    "collapsed": false
   },
   "outputs": [],
   "source": [
    "move_all_path = glob.glob('/Users/Daigo/Desktop/移動と全部/compare*')\n",
    "params_path = glob.glob('/Users/Daigo/Desktop/移動と全部/params*')"
   ]
  },
  {
   "cell_type": "code",
   "execution_count": 21,
   "metadata": {
    "collapsed": false
   },
   "outputs": [
    {
     "data": {
      "text/plain": [
       "(['/Users/Daigo/Desktop/移動と全部/compare_05mix.pkl',\n",
       "  '/Users/Daigo/Desktop/移動と全部/compare_10mix.pkl',\n",
       "  '/Users/Daigo/Desktop/移動と全部/compare_20mix.pkl'],\n",
       " ['/Users/Daigo/Desktop/移動と全部/params_05mix_00batch.pkl',\n",
       "  '/Users/Daigo/Desktop/移動と全部/params_05mix_01batch.pkl',\n",
       "  '/Users/Daigo/Desktop/移動と全部/params_05mix_02batch.pkl',\n",
       "  '/Users/Daigo/Desktop/移動と全部/params_05mix_03batch.pkl',\n",
       "  '/Users/Daigo/Desktop/移動と全部/params_05mix_04batch.pkl'])"
      ]
     },
     "execution_count": 21,
     "metadata": {},
     "output_type": "execute_result"
    }
   ],
   "source": [
    "move_all_path[:5], params_path[:5]"
   ]
  },
  {
   "cell_type": "code",
   "execution_count": 22,
   "metadata": {
    "collapsed": false
   },
   "outputs": [],
   "source": [
    "compares = list()\n",
    "paramss = list()\n",
    "\n",
    "for m_a_path in move_all_path:\n",
    "    with open(m_a_path, 'rb') as f:\n",
    "        compares.append(pickle.load(f))\n",
    "        \n",
    "for param_path in params_path:\n",
    "    with open(param_path, 'rb') as f:\n",
    "        paramss.append(pickle.load(f))\n"
   ]
  },
  {
   "cell_type": "code",
   "execution_count": 24,
   "metadata": {
    "collapsed": false
   },
   "outputs": [
    {
     "data": {
      "text/plain": [
       "(71, 3)"
      ]
     },
     "execution_count": 24,
     "metadata": {},
     "output_type": "execute_result"
    }
   ],
   "source": [
    "compares[0].shape"
   ]
  },
  {
   "cell_type": "code",
   "execution_count": 25,
   "metadata": {
    "collapsed": true
   },
   "outputs": [],
   "source": [
    "df = pd.DataFrame(columns=['objective', 'set_num','mixture', 'method'])\n",
    "\n",
    "mix_list = [5, 10, 20]\n",
    "\n",
    "for mix, compare in zip(mix_list, compares):\n",
    "    for set_num in range(compare.shape[0]):\n",
    "        for method in range(compare.shape[1]):\n",
    "            \n",
    "            if method == 0:\n",
    "                meth = 'all'\n",
    "            elif method == 1:\n",
    "                meth = 'move_only'\n",
    "            elif method == 2:\n",
    "                meth = 'min'\n",
    "                \n",
    "            df2 = pd.DataFrame([[compare[set_num, method], np.int(set_num), mix, meth]], columns=df.columns)\n",
    "                \n",
    "            df = df.append(df2, ignore_index=True)"
   ]
  },
  {
   "cell_type": "code",
   "execution_count": 74,
   "metadata": {
    "collapsed": false
   },
   "outputs": [
    {
     "data": {
      "image/png": "[encoded data removed]",
      "text/plain": [
       "<matplotlib.figure.Figure at 0x1269ee4e0>"
      ]
     },
     "metadata": {},
     "output_type": "display_data"
    }
   ],
   "source": [
    "fig = plt.figure(figsize=(8,6))\n",
    "sns.boxplot(x = 'mixture', y = 'objective', data = df, hue='method')\n",
    "sns.plt.legend(loc=\"upper right\")\n",
    "sns.plt.savefig('/Users/Daigo/Desktop/移動と全部/compare_move_all.png')"
   ]
  },
  {
   "cell_type": "code",
   "execution_count": 54,
   "metadata": {
    "collapsed": false
   },
   "outputs": [
    {
     "data": {
      "text/plain": [
       "(3, 30, 30)"
      ]
     },
     "execution_count": 54,
     "metadata": {},
     "output_type": "execute_result"
    }
   ],
   "source": [
    "paramss[0]['f'].shape"
   ]
  },
  {
   "cell_type": "code",
   "execution_count": 68,
   "metadata": {
    "collapsed": false
   },
   "outputs": [],
   "source": [
    "def vis_move(paramss_child):\n",
    "    \n",
    "    frame = paramss_child['f'][0]\n",
    "    \n",
    "    mus_all = paramss_child['model_all'].params['mus']\n",
    "    moves_all = paramss_child['model_all'].params['move']\n",
    "    \n",
    "    mus_move = paramss_child['model_move'].params['mus']\n",
    "    moves_move = paramss_child['model_move'].params['move']\n",
    "    \n",
    "    fig = sns.plt.figure(figsize=(16,4))\n",
    "    \n",
    "    ax1 = fig.add_subplot(131)\n",
    "    sns.heatmap(frame, vmin = 0, vmax = 1, cmap = 'YlGnBu_r', annot=False)\n",
    "    plt.title('shade ratio')\n",
    "    \n",
    "    ax2 = fig.add_subplot(132)\n",
    "    ax2.quiver(mus_all[:, 0], mus_all[:, 1], moves_all[:, 0], -moves_all[:, 1], \n",
    "                      facecolor = 'blue')\n",
    "    ax2.set_xlim([0, 30])\n",
    "    ax2.set_ylim([30, 0])\n",
    "    plt.title('method : all')\n",
    "    \n",
    "    ax3 = fig.add_subplot(133)\n",
    "    ax3.quiver(mus_move[:, 0], mus_move[:, 1], moves_move[:, 0], -moves_move[:, 1], \n",
    "                      facecolor = 'blue')\n",
    "    ax3.set_xlim([0, 30])\n",
    "    ax3.set_ylim([30, 0])\n",
    "    plt.title('method : move only')\n",
    "    "
   ]
  },
  {
   "cell_type": "code",
   "execution_count": 69,
   "metadata": {
    "collapsed": false
   },
   "outputs": [
    {
     "data": {
      "image/png": "[encoded data removed]",
      "text/plain": [
       "<matplotlib.figure.Figure at 0x123567630>"
      ]
     },
     "metadata": {},
     "output_type": "display_data"
    }
   ],
   "source": [
    "vis_move(paramss_child=paramss[0])"
   ]
  }
 ],
 "metadata": {
  "kernelspec": {
   "display_name": "Python [Root]",
   "language": "python",
   "name": "Python [Root]"
  },
  "language_info": {
   "codemirror_mode": {
    "name": "ipython",
    "version": 3
   },
   "file_extension": ".py",
   "mimetype": "text/x-python",
   "name": "python",
   "nbconvert_exporter": "python",
   "pygments_lexer": "ipython3",
   "version": "3.5.2"
  }
 },
 "nbformat": 4,
 "nbformat_minor": 0
}
